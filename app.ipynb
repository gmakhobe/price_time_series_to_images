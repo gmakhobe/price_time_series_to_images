{
 "cells": [
  {
   "cell_type": "markdown",
   "metadata": {},
   "source": [
    "# Importing important file\n",
    "I will install packages using requirements file.\n"
   ]
  },
  {
   "cell_type": "code",
   "execution_count": null,
   "metadata": {},
   "outputs": [],
   "source": [
    "Installing Modules"
   ]
  },
  {
   "cell_type": "code",
   "execution_count": 20,
   "metadata": {},
   "outputs": [
    {
     "name": "stdout",
     "output_type": "stream",
     "text": [
      "Requirement already satisfied: pandas in c:\\users\\makhg002\\desktop\\codebase\\mql5-script-copy-price-quotes-to-json-file\\.venv\\lib\\site-packages (2.2.1)\n",
      "Requirement already satisfied: numpy<2,>=1.22.4 in c:\\users\\makhg002\\desktop\\codebase\\mql5-script-copy-price-quotes-to-json-file\\.venv\\lib\\site-packages (from pandas) (1.26.4)\n",
      "Requirement already satisfied: python-dateutil>=2.8.2 in c:\\users\\makhg002\\desktop\\codebase\\mql5-script-copy-price-quotes-to-json-file\\.venv\\lib\\site-packages (from pandas) (2.9.0.post0)\n",
      "Requirement already satisfied: pytz>=2020.1 in c:\\users\\makhg002\\desktop\\codebase\\mql5-script-copy-price-quotes-to-json-file\\.venv\\lib\\site-packages (from pandas) (2024.1)\n",
      "Requirement already satisfied: tzdata>=2022.7 in c:\\users\\makhg002\\desktop\\codebase\\mql5-script-copy-price-quotes-to-json-file\\.venv\\lib\\site-packages (from pandas) (2024.1)\n",
      "Requirement already satisfied: six>=1.5 in c:\\users\\makhg002\\desktop\\codebase\\mql5-script-copy-price-quotes-to-json-file\\.venv\\lib\\site-packages (from python-dateutil>=2.8.2->pandas) (1.16.0)\n",
      "Requirement already satisfied: matplotlib in c:\\users\\makhg002\\desktop\\codebase\\mql5-script-copy-price-quotes-to-json-file\\.venv\\lib\\site-packages (3.8.3)\n",
      "Requirement already satisfied: contourpy>=1.0.1 in c:\\users\\makhg002\\desktop\\codebase\\mql5-script-copy-price-quotes-to-json-file\\.venv\\lib\\site-packages (from matplotlib) (1.2.0)\n",
      "Requirement already satisfied: cycler>=0.10 in c:\\users\\makhg002\\desktop\\codebase\\mql5-script-copy-price-quotes-to-json-file\\.venv\\lib\\site-packages (from matplotlib) (0.12.1)\n",
      "Requirement already satisfied: fonttools>=4.22.0 in c:\\users\\makhg002\\desktop\\codebase\\mql5-script-copy-price-quotes-to-json-file\\.venv\\lib\\site-packages (from matplotlib) (4.50.0)\n",
      "Requirement already satisfied: kiwisolver>=1.3.1 in c:\\users\\makhg002\\desktop\\codebase\\mql5-script-copy-price-quotes-to-json-file\\.venv\\lib\\site-packages (from matplotlib) (1.4.5)\n",
      "Requirement already satisfied: numpy<2,>=1.21 in c:\\users\\makhg002\\desktop\\codebase\\mql5-script-copy-price-quotes-to-json-file\\.venv\\lib\\site-packages (from matplotlib) (1.26.4)\n",
      "Requirement already satisfied: packaging>=20.0 in c:\\users\\makhg002\\desktop\\codebase\\mql5-script-copy-price-quotes-to-json-file\\.venv\\lib\\site-packages (from matplotlib) (24.0)\n",
      "Requirement already satisfied: pillow>=8 in c:\\users\\makhg002\\desktop\\codebase\\mql5-script-copy-price-quotes-to-json-file\\.venv\\lib\\site-packages (from matplotlib) (10.2.0)\n",
      "Requirement already satisfied: pyparsing>=2.3.1 in c:\\users\\makhg002\\desktop\\codebase\\mql5-script-copy-price-quotes-to-json-file\\.venv\\lib\\site-packages (from matplotlib) (3.1.2)\n",
      "Requirement already satisfied: python-dateutil>=2.7 in c:\\users\\makhg002\\desktop\\codebase\\mql5-script-copy-price-quotes-to-json-file\\.venv\\lib\\site-packages (from matplotlib) (2.9.0.post0)\n",
      "Requirement already satisfied: six>=1.5 in c:\\users\\makhg002\\desktop\\codebase\\mql5-script-copy-price-quotes-to-json-file\\.venv\\lib\\site-packages (from python-dateutil>=2.7->matplotlib) (1.16.0)\n",
      "Requirement already satisfied: mplfinance in c:\\users\\makhg002\\desktop\\codebase\\mql5-script-copy-price-quotes-to-json-file\\.venv\\lib\\site-packages (0.12.10b0)\n",
      "Requirement already satisfied: matplotlib in c:\\users\\makhg002\\desktop\\codebase\\mql5-script-copy-price-quotes-to-json-file\\.venv\\lib\\site-packages (from mplfinance) (3.8.3)\n",
      "Requirement already satisfied: pandas in c:\\users\\makhg002\\desktop\\codebase\\mql5-script-copy-price-quotes-to-json-file\\.venv\\lib\\site-packages (from mplfinance) (2.2.1)\n",
      "Requirement already satisfied: contourpy>=1.0.1 in c:\\users\\makhg002\\desktop\\codebase\\mql5-script-copy-price-quotes-to-json-file\\.venv\\lib\\site-packages (from matplotlib->mplfinance) (1.2.0)\n",
      "Requirement already satisfied: cycler>=0.10 in c:\\users\\makhg002\\desktop\\codebase\\mql5-script-copy-price-quotes-to-json-file\\.venv\\lib\\site-packages (from matplotlib->mplfinance) (0.12.1)\n",
      "Requirement already satisfied: fonttools>=4.22.0 in c:\\users\\makhg002\\desktop\\codebase\\mql5-script-copy-price-quotes-to-json-file\\.venv\\lib\\site-packages (from matplotlib->mplfinance) (4.50.0)\n",
      "Requirement already satisfied: kiwisolver>=1.3.1 in c:\\users\\makhg002\\desktop\\codebase\\mql5-script-copy-price-quotes-to-json-file\\.venv\\lib\\site-packages (from matplotlib->mplfinance) (1.4.5)\n",
      "Requirement already satisfied: numpy<2,>=1.21 in c:\\users\\makhg002\\desktop\\codebase\\mql5-script-copy-price-quotes-to-json-file\\.venv\\lib\\site-packages (from matplotlib->mplfinance) (1.26.4)\n",
      "Requirement already satisfied: packaging>=20.0 in c:\\users\\makhg002\\desktop\\codebase\\mql5-script-copy-price-quotes-to-json-file\\.venv\\lib\\site-packages (from matplotlib->mplfinance) (24.0)\n",
      "Requirement already satisfied: pillow>=8 in c:\\users\\makhg002\\desktop\\codebase\\mql5-script-copy-price-quotes-to-json-file\\.venv\\lib\\site-packages (from matplotlib->mplfinance) (10.2.0)\n",
      "Requirement already satisfied: pyparsing>=2.3.1 in c:\\users\\makhg002\\desktop\\codebase\\mql5-script-copy-price-quotes-to-json-file\\.venv\\lib\\site-packages (from matplotlib->mplfinance) (3.1.2)\n",
      "Requirement already satisfied: python-dateutil>=2.7 in c:\\users\\makhg002\\desktop\\codebase\\mql5-script-copy-price-quotes-to-json-file\\.venv\\lib\\site-packages (from matplotlib->mplfinance) (2.9.0.post0)\n",
      "Requirement already satisfied: pytz>=2020.1 in c:\\users\\makhg002\\desktop\\codebase\\mql5-script-copy-price-quotes-to-json-file\\.venv\\lib\\site-packages (from pandas->mplfinance) (2024.1)\n",
      "Requirement already satisfied: tzdata>=2022.7 in c:\\users\\makhg002\\desktop\\codebase\\mql5-script-copy-price-quotes-to-json-file\\.venv\\lib\\site-packages (from pandas->mplfinance) (2024.1)\n",
      "Requirement already satisfied: six>=1.5 in c:\\users\\makhg002\\desktop\\codebase\\mql5-script-copy-price-quotes-to-json-file\\.venv\\lib\\site-packages (from python-dateutil>=2.7->matplotlib->mplfinance) (1.16.0)\n"
     ]
    }
   ],
   "source": [
    "!pip install pandas\n",
    "!pip install matplotlib\n",
    "!pip install --upgrade mplfinance"
   ]
  },
  {
   "cell_type": "code",
   "execution_count": 21,
   "metadata": {},
   "outputs": [],
   "source": [
    "import csv\n",
    "import matplotlib.pyplot as plt\n",
    "import pandas as pd\n",
    "import json\n",
    "import mplfinance as mpf"
   ]
  },
  {
   "cell_type": "markdown",
   "metadata": {},
   "source": [
    "# Get data from a json file"
   ]
  },
  {
   "cell_type": "code",
   "execution_count": 64,
   "metadata": {},
   "outputs": [],
   "source": [
    "data = pd.read_csv(\"price_data_gbpusd_2020-2024.csv\")"
   ]
  },
  {
   "cell_type": "raw",
   "metadata": {},
   "source": [
    "Formating the data accordingly"
   ]
  },
  {
   "cell_type": "raw",
   "metadata": {},
   "source": [
    "open = []\n",
    "close = []\n",
    "high = []\n",
    "low = []\n",
    "for index, row in data.iterrows():\n",
    "    open.append(row['Open'])\n",
    "    close.append(row['Close'])\n",
    "    high.append(row['High'])\n",
    "    low.append(row['Low'])\n"
   ]
  },
  {
   "cell_type": "raw",
   "metadata": {},
   "source": [
    "New Dataframe"
   ]
  },
  {
   "cell_type": "code",
   "execution_count": 83,
   "metadata": {},
   "outputs": [],
   "source": [
    "data['Date'] = pd.to_datetime(data['Date'])\n",
    "priceInformation = pd.DataFrame({\n",
    "    \"Open\": open,\n",
    "    \"Close\": close,\n",
    "    \"High\": high,\n",
    "    \"Low\": low}, index=data['Date'])\n"
   ]
  },
  {
   "cell_type": "raw",
   "metadata": {},
   "source": [
    "Testing printing of data to mplfinance"
   ]
  },
  {
   "cell_type": "code",
   "execution_count": 98,
   "metadata": {},
   "outputs": [
    {
     "name": "stdout",
     "output_type": "stream",
     "text": [
      "                        Open    Close     High      Low\n",
      "Date                                                   \n",
      "2020-03-26 22:00:00  1.22268  1.22106  1.22274  1.22000\n",
      "2020-03-26 22:15:00  1.22106  1.21931  1.22130  1.21920\n",
      "2020-03-26 22:30:00  1.21931  1.21733  1.21988  1.21713\n",
      "2020-03-26 22:45:00  1.21733  1.21997  1.22090  1.21720\n",
      "2020-03-26 23:00:00  1.21949  1.21674  1.22061  1.21613\n",
      "...                      ...      ...      ...      ...\n",
      "2020-03-27 21:00:00  1.24787  1.24734  1.24821  1.24568\n",
      "2020-03-27 21:15:00  1.24734  1.24665  1.24806  1.24642\n",
      "2020-03-27 21:30:00  1.24665  1.24688  1.24814  1.24657\n",
      "2020-03-27 21:45:00  1.24688  1.24650  1.24762  1.24508\n",
      "2020-03-27 22:00:00  1.24650  1.24656  1.24710  1.24480\n",
      "\n",
      "[97 rows x 4 columns]\n"
     ]
    }
   ],
   "source": [
    "testDataFrame = priceInformation.loc['2020-03-26 22:00:00':'2020-03-27 22:00:00',:]\n",
    "\n",
    "print(testDataFrame)"
   ]
  },
  {
   "cell_type": "code",
   "execution_count": 100,
   "metadata": {},
   "outputs": [],
   "source": [
    "%%capture \n",
    "mpl.plot(testDataFrame,type='candle', axisoff=True,savefig='testsave.png')"
   ]
  },
  {
   "cell_type": "raw",
   "metadata": {},
   "source": [
    "Performing charting work"
   ]
  },
  {
   "cell_type": "code",
   "execution_count": 143,
   "metadata": {},
   "outputs": [
    {
     "name": "stdout",
     "output_type": "stream",
     "text": [
      "Done\n"
     ]
    }
   ],
   "source": [
    "import os\n",
    "\n",
    "isInitialExecution = True\n",
    "\n",
    "timeAtStockExchangeClose = None\n",
    "timeAtStockExchangeOpen = None\n",
    "fullTimeAtStockExchangeClose = None\n",
    "fullTimeAtStockExchangeOpen = None\n",
    "\n",
    "\n",
    "imageName = None\n",
    "\n",
    "stockExchangeOpenHour = 14\n",
    "stockExchangeCloseHour = 22\n",
    "stockExchangeOpenMinute = 15\n",
    "stockExchangeCloseMinute = 0\n",
    "\n",
    "stockExchangeOpen = 0.0\n",
    "\n",
    "counter = 0\n",
    "\n",
    "\n",
    "\n",
    "for index, row in priceInformation.iterrows():\n",
    "\n",
    "    if index.hour == stockExchangeCloseHour and index.minute == stockExchangeCloseMinute:\n",
    "        timeAtStockExchangeClose = index\n",
    "        fullTimeAtStockExchangeClose =  index\n",
    "        if isInitialExecution == False:\n",
    "            try:\n",
    "                if float(stockExchangeOpen) < float(row[\"Open\"]):\n",
    "                    os.system('move \"' + imageName + '\" media/bullish')\n",
    "\n",
    "                    ## Operations for a day screenshot\n",
    "                    testDataFrame = priceInformation.loc[fullTimeAtStockExchangeOpen:fullTimeAtStockExchangeClose,:]\n",
    "                    mpl.plot(testDataFrame,type='candle', axisoff=True, savefig=imageName)\n",
    "                    os.system('move \"' + imageName + '\" media/evidence/bullish')\n",
    "                \n",
    "                else:\n",
    "                    os.system('move \"' + imageName + '\" media/bearish')\n",
    "                    \n",
    "                    ## Operations for a day screenshot\n",
    "                    testDataFrame = priceInformation.loc[fullTimeAtStockExchangeOpen:fullTimeAtStockExchangeClose,:]\n",
    "                    mpl.plot(testDataFrame,type='candle', axisoff=True, savefig=imageName)\n",
    "                    os.system('move \"' + imageName + '\" media/evidence/bearish')\n",
    "            \n",
    "            except Exception as err:\n",
    "                print(f\"Unexpected error occurred: {type(err)} - {err}\")\n",
    "                print(stockExchangeOpen)\n",
    "            \n",
    "        isInitialExecution = False\n",
    "    \n",
    "    if index.hour == stockExchangeOpenHour and isInitialExecution == False and  index.minute == stockExchangeOpenMinute:\n",
    "        timeAtStockExchangeOpen = index\n",
    "        imageName = str(counter) + \"_image.png\"\n",
    "        \n",
    "        testDataFrame = priceInformation.loc[timeAtStockExchangeClose:index,:]\n",
    "\n",
    "        # Save images on local disc\n",
    "        mpl.plot(testDataFrame,type='candle', axisoff=True, savefig=imageName)\n",
    "\n",
    "        stockExchangeOpen = float(row[\"Open\"])\n",
    "        fullTimeAtStockExchangeOpen = index\n",
    "        \n",
    "    \n",
    "    counter = counter + 1\n",
    "        \n",
    "        \n",
    "print(\"Done\")\n",
    "    \n",
    "    # Get yesterday's date for 22:00 New Yorks close and store it on a variable\n",
    "    # Get current date for 14:00 New york open and do work\n",
    "    # Else contnue\n",
    "    "
   ]
  },
  {
   "cell_type": "code",
   "execution_count": null,
   "metadata": {},
   "outputs": [],
   "source": []
  }
 ],
 "metadata": {
  "kernelspec": {
   "display_name": "Python 3 (ipykernel)",
   "language": "python",
   "name": "python3"
  },
  "language_info": {
   "codemirror_mode": {
    "name": "ipython",
    "version": 3
   },
   "file_extension": ".py",
   "mimetype": "text/x-python",
   "name": "python",
   "nbconvert_exporter": "python",
   "pygments_lexer": "ipython3",
   "version": "3.10.2"
  }
 },
 "nbformat": 4,
 "nbformat_minor": 4
}
